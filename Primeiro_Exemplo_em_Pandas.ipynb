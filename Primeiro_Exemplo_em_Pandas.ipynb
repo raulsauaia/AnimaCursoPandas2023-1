{
  "nbformat": 4,
  "nbformat_minor": 0,
  "metadata": {
    "colab": {
      "provenance": [],
      "mount_file_id": "1EYwAUxKi2rVFiHTByOYmU9YqGbH0VOct",
      "authorship_tag": "ABX9TyMh9mNa9rHFicAmLyn4ValM",
      "include_colab_link": true
    },
    "kernelspec": {
      "name": "python3",
      "display_name": "Python 3"
    },
    "language_info": {
      "name": "python"
    }
  },
  "cells": [
    {
      "cell_type": "markdown",
      "metadata": {
        "id": "view-in-github",
        "colab_type": "text"
      },
      "source": [
        "<a href=\"https://colab.research.google.com/github/raulsauaia/AnimaCursoPandas2023-1/blob/main/Primeiro_Exemplo_em_Pandas.ipynb\" target=\"_parent\"><img src=\"https://colab.research.google.com/assets/colab-badge.svg\" alt=\"Open In Colab\"/></a>"
      ]
    },
    {
      "cell_type": "markdown",
      "source": [
        "**Primeiro Exemplo de Manipulação de dados usando Python Pandas** <br>\n",
        "Autor: Henrique Poyatos e Galera\n",
        "\n",
        "\n",
        "Data: 6 de fevereiro de 2023\n",
        "\n",
        "\n",
        "https://pandas.pydata.org/docs/reference"
      ],
      "metadata": {
        "id": "gZxSwBqmUY7E"
      }
    },
    {
      "cell_type": "code",
      "source": [
        "!pip install pandas\n",
        "# linha de comando linux"
      ],
      "metadata": {
        "colab": {
          "base_uri": "https://localhost:8080/"
        },
        "id": "qrrjRkzGV8rq",
        "outputId": "4ca9052b-183a-468e-a403-717b5d7c240d"
      },
      "execution_count": null,
      "outputs": [
        {
          "output_type": "stream",
          "name": "stdout",
          "text": [
            "Looking in indexes: https://pypi.org/simple, https://us-python.pkg.dev/colab-wheels/public/simple/\n",
            "Requirement already satisfied: pandas in /usr/local/lib/python3.8/dist-packages (1.3.5)\n",
            "Requirement already satisfied: numpy>=1.17.3 in /usr/local/lib/python3.8/dist-packages (from pandas) (1.21.6)\n",
            "Requirement already satisfied: pytz>=2017.3 in /usr/local/lib/python3.8/dist-packages (from pandas) (2022.7.1)\n",
            "Requirement already satisfied: python-dateutil>=2.7.3 in /usr/local/lib/python3.8/dist-packages (from pandas) (2.8.2)\n",
            "Requirement already satisfied: six>=1.5 in /usr/local/lib/python3.8/dist-packages (from python-dateutil>=2.7.3->pandas) (1.15.0)\n"
          ]
        }
      ]
    },
    {
      "cell_type": "code",
      "execution_count": 1,
      "metadata": {
        "colab": {
          "base_uri": "https://localhost:8080/",
          "height": 1000
        },
        "id": "2tWSYV3TCqQI",
        "outputId": "1d4fb364-1efe-4d3b-f861-010ad0a319ad"
      },
      "outputs": [
        {
          "output_type": "display_data",
          "data": {
            "text/plain": [
              "       Regiao - Sigla Estado - Sigla  Municipio  \\\n",
              "0                  NE             AL  ARAPIRACA   \n",
              "1                  NE             AL  ARAPIRACA   \n",
              "2                  NE             AL  ARAPIRACA   \n",
              "3                  NE             AL  ARAPIRACA   \n",
              "4                  NE             AL  ARAPIRACA   \n",
              "...               ...            ...        ...   \n",
              "168404             NE             BA     JEQUIE   \n",
              "168405             SE             MG  ITUIUTABA   \n",
              "168406             SE             MG  ITUIUTABA   \n",
              "168407             SE             MG  ITUIUTABA   \n",
              "168408             SE             MG  ITUIUTABA   \n",
              "\n",
              "                                           Revenda      CNPJ da Revenda  \\\n",
              "0                             POSTO ARAPIRACA LTDA   12.451.076/0004-65   \n",
              "1                             POSTO ARAPIRACA LTDA   12.451.076/0004-65   \n",
              "2                             POSTO ARAPIRACA LTDA   12.451.076/0004-65   \n",
              "3                             POSTO ARAPIRACA LTDA   12.451.076/0004-65   \n",
              "4                             POSTO ARAPIRACA LTDA   12.451.076/0004-65   \n",
              "...                                            ...                  ...   \n",
              "168404  COMERCIAL DE COMBUSTIVEL CACHOEIRINHA LTDA   28.629.089/0001-79   \n",
              "168405           ABC DISTRIBUICAO DE PETROLEO LTDA   13.117.591/0006-38   \n",
              "168406           ABC DISTRIBUICAO DE PETROLEO LTDA   13.117.591/0006-38   \n",
              "168407           ABC DISTRIBUICAO DE PETROLEO LTDA   13.117.591/0006-38   \n",
              "168408           ABC DISTRIBUICAO DE PETROLEO LTDA   13.117.591/0006-38   \n",
              "\n",
              "                                      Nome da Rua Numero Rua Complemento  \\\n",
              "0                                  RODOVIA AL 220        105       KM 68   \n",
              "1                                  RODOVIA AL 220        105       KM 68   \n",
              "2                                  RODOVIA AL 220        105       KM 68   \n",
              "3                                  RODOVIA AL 220        105       KM 68   \n",
              "4                                  RODOVIA AL 220        105       KM 68   \n",
              "...                                           ...        ...         ...   \n",
              "168404                  AVENIDA T LOT JD TROPICAL         53         NaN   \n",
              "168405  AVENIDA PROFESSOR JOSE VIEIRA DE MENDONCA       2415         NaN   \n",
              "168406  AVENIDA PROFESSOR JOSE VIEIRA DE MENDONCA       2415         NaN   \n",
              "168407  AVENIDA PROFESSOR JOSE VIEIRA DE MENDONCA       2415         NaN   \n",
              "168408  AVENIDA PROFESSOR JOSE VIEIRA DE MENDONCA       2415         NaN   \n",
              "\n",
              "             Bairro        Cep             Produto Data da Coleta  \\\n",
              "0       CANAFISTULA  57302-605            GASOLINA     2021-11-01   \n",
              "1       CANAFISTULA  57302-605              ETANOL     2021-11-01   \n",
              "2       CANAFISTULA  57302-605              DIESEL     2021-11-01   \n",
              "3       CANAFISTULA  57302-605  GASOLINA ADITIVADA     2021-11-01   \n",
              "4       CANAFISTULA  57302-605          DIESEL S10     2021-11-01   \n",
              "...             ...        ...                 ...            ...   \n",
              "168404     TROPICAL  45209-130              ETANOL     2021-12-31   \n",
              "168405     ALVORADA  38307-113            GASOLINA     2021-12-31   \n",
              "168406     ALVORADA  38307-113              ETANOL     2021-12-31   \n",
              "168407     ALVORADA  38307-113          DIESEL S10     2021-12-31   \n",
              "168408     ALVORADA  38307-113  GASOLINA ADITIVADA     2021-12-31   \n",
              "\n",
              "        Valor de Venda  Valor de Compra Unidade de Medida       Bandeira  \n",
              "0                6.799              NaN        R$ / litro  VIBRA ENERGIA  \n",
              "1                5.299              NaN        R$ / litro  VIBRA ENERGIA  \n",
              "2                5.549              NaN        R$ / litro  VIBRA ENERGIA  \n",
              "3                6.899              NaN        R$ / litro  VIBRA ENERGIA  \n",
              "4                5.649              NaN        R$ / litro  VIBRA ENERGIA  \n",
              "...                ...              ...               ...            ...  \n",
              "168404           5.859              NaN        R$ / litro     PETROSERRA  \n",
              "168405           6.580              NaN        R$ / litro         BRANCA  \n",
              "168406           4.740              NaN        R$ / litro         BRANCA  \n",
              "168407           5.448              NaN        R$ / litro         BRANCA  \n",
              "168408           6.580              NaN        R$ / litro         BRANCA  \n",
              "\n",
              "[168409 rows x 16 columns]"
            ],
            "text/html": [
              "\n",
              "  <div id=\"df-b42cd7fd-c99b-4a0e-9166-239af177dd50\">\n",
              "    <div class=\"colab-df-container\">\n",
              "      <div>\n",
              "<style scoped>\n",
              "    .dataframe tbody tr th:only-of-type {\n",
              "        vertical-align: middle;\n",
              "    }\n",
              "\n",
              "    .dataframe tbody tr th {\n",
              "        vertical-align: top;\n",
              "    }\n",
              "\n",
              "    .dataframe thead th {\n",
              "        text-align: right;\n",
              "    }\n",
              "</style>\n",
              "<table border=\"1\" class=\"dataframe\">\n",
              "  <thead>\n",
              "    <tr style=\"text-align: right;\">\n",
              "      <th></th>\n",
              "      <th>Regiao - Sigla</th>\n",
              "      <th>Estado - Sigla</th>\n",
              "      <th>Municipio</th>\n",
              "      <th>Revenda</th>\n",
              "      <th>CNPJ da Revenda</th>\n",
              "      <th>Nome da Rua</th>\n",
              "      <th>Numero Rua</th>\n",
              "      <th>Complemento</th>\n",
              "      <th>Bairro</th>\n",
              "      <th>Cep</th>\n",
              "      <th>Produto</th>\n",
              "      <th>Data da Coleta</th>\n",
              "      <th>Valor de Venda</th>\n",
              "      <th>Valor de Compra</th>\n",
              "      <th>Unidade de Medida</th>\n",
              "      <th>Bandeira</th>\n",
              "    </tr>\n",
              "  </thead>\n",
              "  <tbody>\n",
              "    <tr>\n",
              "      <th>0</th>\n",
              "      <td>NE</td>\n",
              "      <td>AL</td>\n",
              "      <td>ARAPIRACA</td>\n",
              "      <td>POSTO ARAPIRACA LTDA</td>\n",
              "      <td>12.451.076/0004-65</td>\n",
              "      <td>RODOVIA AL 220</td>\n",
              "      <td>105</td>\n",
              "      <td>KM 68</td>\n",
              "      <td>CANAFISTULA</td>\n",
              "      <td>57302-605</td>\n",
              "      <td>GASOLINA</td>\n",
              "      <td>2021-11-01</td>\n",
              "      <td>6.799</td>\n",
              "      <td>NaN</td>\n",
              "      <td>R$ / litro</td>\n",
              "      <td>VIBRA ENERGIA</td>\n",
              "    </tr>\n",
              "    <tr>\n",
              "      <th>1</th>\n",
              "      <td>NE</td>\n",
              "      <td>AL</td>\n",
              "      <td>ARAPIRACA</td>\n",
              "      <td>POSTO ARAPIRACA LTDA</td>\n",
              "      <td>12.451.076/0004-65</td>\n",
              "      <td>RODOVIA AL 220</td>\n",
              "      <td>105</td>\n",
              "      <td>KM 68</td>\n",
              "      <td>CANAFISTULA</td>\n",
              "      <td>57302-605</td>\n",
              "      <td>ETANOL</td>\n",
              "      <td>2021-11-01</td>\n",
              "      <td>5.299</td>\n",
              "      <td>NaN</td>\n",
              "      <td>R$ / litro</td>\n",
              "      <td>VIBRA ENERGIA</td>\n",
              "    </tr>\n",
              "    <tr>\n",
              "      <th>2</th>\n",
              "      <td>NE</td>\n",
              "      <td>AL</td>\n",
              "      <td>ARAPIRACA</td>\n",
              "      <td>POSTO ARAPIRACA LTDA</td>\n",
              "      <td>12.451.076/0004-65</td>\n",
              "      <td>RODOVIA AL 220</td>\n",
              "      <td>105</td>\n",
              "      <td>KM 68</td>\n",
              "      <td>CANAFISTULA</td>\n",
              "      <td>57302-605</td>\n",
              "      <td>DIESEL</td>\n",
              "      <td>2021-11-01</td>\n",
              "      <td>5.549</td>\n",
              "      <td>NaN</td>\n",
              "      <td>R$ / litro</td>\n",
              "      <td>VIBRA ENERGIA</td>\n",
              "    </tr>\n",
              "    <tr>\n",
              "      <th>3</th>\n",
              "      <td>NE</td>\n",
              "      <td>AL</td>\n",
              "      <td>ARAPIRACA</td>\n",
              "      <td>POSTO ARAPIRACA LTDA</td>\n",
              "      <td>12.451.076/0004-65</td>\n",
              "      <td>RODOVIA AL 220</td>\n",
              "      <td>105</td>\n",
              "      <td>KM 68</td>\n",
              "      <td>CANAFISTULA</td>\n",
              "      <td>57302-605</td>\n",
              "      <td>GASOLINA ADITIVADA</td>\n",
              "      <td>2021-11-01</td>\n",
              "      <td>6.899</td>\n",
              "      <td>NaN</td>\n",
              "      <td>R$ / litro</td>\n",
              "      <td>VIBRA ENERGIA</td>\n",
              "    </tr>\n",
              "    <tr>\n",
              "      <th>4</th>\n",
              "      <td>NE</td>\n",
              "      <td>AL</td>\n",
              "      <td>ARAPIRACA</td>\n",
              "      <td>POSTO ARAPIRACA LTDA</td>\n",
              "      <td>12.451.076/0004-65</td>\n",
              "      <td>RODOVIA AL 220</td>\n",
              "      <td>105</td>\n",
              "      <td>KM 68</td>\n",
              "      <td>CANAFISTULA</td>\n",
              "      <td>57302-605</td>\n",
              "      <td>DIESEL S10</td>\n",
              "      <td>2021-11-01</td>\n",
              "      <td>5.649</td>\n",
              "      <td>NaN</td>\n",
              "      <td>R$ / litro</td>\n",
              "      <td>VIBRA ENERGIA</td>\n",
              "    </tr>\n",
              "    <tr>\n",
              "      <th>...</th>\n",
              "      <td>...</td>\n",
              "      <td>...</td>\n",
              "      <td>...</td>\n",
              "      <td>...</td>\n",
              "      <td>...</td>\n",
              "      <td>...</td>\n",
              "      <td>...</td>\n",
              "      <td>...</td>\n",
              "      <td>...</td>\n",
              "      <td>...</td>\n",
              "      <td>...</td>\n",
              "      <td>...</td>\n",
              "      <td>...</td>\n",
              "      <td>...</td>\n",
              "      <td>...</td>\n",
              "      <td>...</td>\n",
              "    </tr>\n",
              "    <tr>\n",
              "      <th>168404</th>\n",
              "      <td>NE</td>\n",
              "      <td>BA</td>\n",
              "      <td>JEQUIE</td>\n",
              "      <td>COMERCIAL DE COMBUSTIVEL CACHOEIRINHA LTDA</td>\n",
              "      <td>28.629.089/0001-79</td>\n",
              "      <td>AVENIDA T LOT JD TROPICAL</td>\n",
              "      <td>53</td>\n",
              "      <td>NaN</td>\n",
              "      <td>TROPICAL</td>\n",
              "      <td>45209-130</td>\n",
              "      <td>ETANOL</td>\n",
              "      <td>2021-12-31</td>\n",
              "      <td>5.859</td>\n",
              "      <td>NaN</td>\n",
              "      <td>R$ / litro</td>\n",
              "      <td>PETROSERRA</td>\n",
              "    </tr>\n",
              "    <tr>\n",
              "      <th>168405</th>\n",
              "      <td>SE</td>\n",
              "      <td>MG</td>\n",
              "      <td>ITUIUTABA</td>\n",
              "      <td>ABC DISTRIBUICAO DE PETROLEO LTDA</td>\n",
              "      <td>13.117.591/0006-38</td>\n",
              "      <td>AVENIDA PROFESSOR JOSE VIEIRA DE MENDONCA</td>\n",
              "      <td>2415</td>\n",
              "      <td>NaN</td>\n",
              "      <td>ALVORADA</td>\n",
              "      <td>38307-113</td>\n",
              "      <td>GASOLINA</td>\n",
              "      <td>2021-12-31</td>\n",
              "      <td>6.580</td>\n",
              "      <td>NaN</td>\n",
              "      <td>R$ / litro</td>\n",
              "      <td>BRANCA</td>\n",
              "    </tr>\n",
              "    <tr>\n",
              "      <th>168406</th>\n",
              "      <td>SE</td>\n",
              "      <td>MG</td>\n",
              "      <td>ITUIUTABA</td>\n",
              "      <td>ABC DISTRIBUICAO DE PETROLEO LTDA</td>\n",
              "      <td>13.117.591/0006-38</td>\n",
              "      <td>AVENIDA PROFESSOR JOSE VIEIRA DE MENDONCA</td>\n",
              "      <td>2415</td>\n",
              "      <td>NaN</td>\n",
              "      <td>ALVORADA</td>\n",
              "      <td>38307-113</td>\n",
              "      <td>ETANOL</td>\n",
              "      <td>2021-12-31</td>\n",
              "      <td>4.740</td>\n",
              "      <td>NaN</td>\n",
              "      <td>R$ / litro</td>\n",
              "      <td>BRANCA</td>\n",
              "    </tr>\n",
              "    <tr>\n",
              "      <th>168407</th>\n",
              "      <td>SE</td>\n",
              "      <td>MG</td>\n",
              "      <td>ITUIUTABA</td>\n",
              "      <td>ABC DISTRIBUICAO DE PETROLEO LTDA</td>\n",
              "      <td>13.117.591/0006-38</td>\n",
              "      <td>AVENIDA PROFESSOR JOSE VIEIRA DE MENDONCA</td>\n",
              "      <td>2415</td>\n",
              "      <td>NaN</td>\n",
              "      <td>ALVORADA</td>\n",
              "      <td>38307-113</td>\n",
              "      <td>DIESEL S10</td>\n",
              "      <td>2021-12-31</td>\n",
              "      <td>5.448</td>\n",
              "      <td>NaN</td>\n",
              "      <td>R$ / litro</td>\n",
              "      <td>BRANCA</td>\n",
              "    </tr>\n",
              "    <tr>\n",
              "      <th>168408</th>\n",
              "      <td>SE</td>\n",
              "      <td>MG</td>\n",
              "      <td>ITUIUTABA</td>\n",
              "      <td>ABC DISTRIBUICAO DE PETROLEO LTDA</td>\n",
              "      <td>13.117.591/0006-38</td>\n",
              "      <td>AVENIDA PROFESSOR JOSE VIEIRA DE MENDONCA</td>\n",
              "      <td>2415</td>\n",
              "      <td>NaN</td>\n",
              "      <td>ALVORADA</td>\n",
              "      <td>38307-113</td>\n",
              "      <td>GASOLINA ADITIVADA</td>\n",
              "      <td>2021-12-31</td>\n",
              "      <td>6.580</td>\n",
              "      <td>NaN</td>\n",
              "      <td>R$ / litro</td>\n",
              "      <td>BRANCA</td>\n",
              "    </tr>\n",
              "  </tbody>\n",
              "</table>\n",
              "<p>168409 rows × 16 columns</p>\n",
              "</div>\n",
              "      <button class=\"colab-df-convert\" onclick=\"convertToInteractive('df-b42cd7fd-c99b-4a0e-9166-239af177dd50')\"\n",
              "              title=\"Convert this dataframe to an interactive table.\"\n",
              "              style=\"display:none;\">\n",
              "        \n",
              "  <svg xmlns=\"http://www.w3.org/2000/svg\" height=\"24px\"viewBox=\"0 0 24 24\"\n",
              "       width=\"24px\">\n",
              "    <path d=\"M0 0h24v24H0V0z\" fill=\"none\"/>\n",
              "    <path d=\"M18.56 5.44l.94 2.06.94-2.06 2.06-.94-2.06-.94-.94-2.06-.94 2.06-2.06.94zm-11 1L8.5 8.5l.94-2.06 2.06-.94-2.06-.94L8.5 2.5l-.94 2.06-2.06.94zm10 10l.94 2.06.94-2.06 2.06-.94-2.06-.94-.94-2.06-.94 2.06-2.06.94z\"/><path d=\"M17.41 7.96l-1.37-1.37c-.4-.4-.92-.59-1.43-.59-.52 0-1.04.2-1.43.59L10.3 9.45l-7.72 7.72c-.78.78-.78 2.05 0 2.83L4 21.41c.39.39.9.59 1.41.59.51 0 1.02-.2 1.41-.59l7.78-7.78 2.81-2.81c.8-.78.8-2.07 0-2.86zM5.41 20L4 18.59l7.72-7.72 1.47 1.35L5.41 20z\"/>\n",
              "  </svg>\n",
              "      </button>\n",
              "      \n",
              "  <style>\n",
              "    .colab-df-container {\n",
              "      display:flex;\n",
              "      flex-wrap:wrap;\n",
              "      gap: 12px;\n",
              "    }\n",
              "\n",
              "    .colab-df-convert {\n",
              "      background-color: #E8F0FE;\n",
              "      border: none;\n",
              "      border-radius: 50%;\n",
              "      cursor: pointer;\n",
              "      display: none;\n",
              "      fill: #1967D2;\n",
              "      height: 32px;\n",
              "      padding: 0 0 0 0;\n",
              "      width: 32px;\n",
              "    }\n",
              "\n",
              "    .colab-df-convert:hover {\n",
              "      background-color: #E2EBFA;\n",
              "      box-shadow: 0px 1px 2px rgba(60, 64, 67, 0.3), 0px 1px 3px 1px rgba(60, 64, 67, 0.15);\n",
              "      fill: #174EA6;\n",
              "    }\n",
              "\n",
              "    [theme=dark] .colab-df-convert {\n",
              "      background-color: #3B4455;\n",
              "      fill: #D2E3FC;\n",
              "    }\n",
              "\n",
              "    [theme=dark] .colab-df-convert:hover {\n",
              "      background-color: #434B5C;\n",
              "      box-shadow: 0px 1px 3px 1px rgba(0, 0, 0, 0.15);\n",
              "      filter: drop-shadow(0px 1px 2px rgba(0, 0, 0, 0.3));\n",
              "      fill: #FFFFFF;\n",
              "    }\n",
              "  </style>\n",
              "\n",
              "      <script>\n",
              "        const buttonEl =\n",
              "          document.querySelector('#df-b42cd7fd-c99b-4a0e-9166-239af177dd50 button.colab-df-convert');\n",
              "        buttonEl.style.display =\n",
              "          google.colab.kernel.accessAllowed ? 'block' : 'none';\n",
              "\n",
              "        async function convertToInteractive(key) {\n",
              "          const element = document.querySelector('#df-b42cd7fd-c99b-4a0e-9166-239af177dd50');\n",
              "          const dataTable =\n",
              "            await google.colab.kernel.invokeFunction('convertToInteractive',\n",
              "                                                     [key], {});\n",
              "          if (!dataTable) return;\n",
              "\n",
              "          const docLinkHtml = 'Like what you see? Visit the ' +\n",
              "            '<a target=\"_blank\" href=https://colab.research.google.com/notebooks/data_table.ipynb>data table notebook</a>'\n",
              "            + ' to learn more about interactive tables.';\n",
              "          element.innerHTML = '';\n",
              "          dataTable['output_type'] = 'display_data';\n",
              "          await google.colab.output.renderOutput(dataTable, element);\n",
              "          const docLink = document.createElement('div');\n",
              "          docLink.innerHTML = docLinkHtml;\n",
              "          element.appendChild(docLink);\n",
              "        }\n",
              "      </script>\n",
              "    </div>\n",
              "  </div>\n",
              "  "
            ]
          },
          "metadata": {}
        }
      ],
      "source": [
        "# Importando biblioteca Pandas no Python\n",
        "\n",
        "import pandas as pd\n",
        "\n",
        "# df - dataframe\n",
        "combustiveis_df = pd.read_excel(\"/content/drive/MyDrive/Cópia de ca-2021-02.xlsx\")\n",
        "\n",
        "display(combustiveis_df)\n"
      ]
    },
    {
      "cell_type": "code",
      "source": [
        "#Exibe as primeiras 5 linhas\n",
        "\n",
        "display(combustiveis_df.head())"
      ],
      "metadata": {
        "id": "_v2d1xcwFCo7"
      },
      "execution_count": null,
      "outputs": []
    },
    {
      "cell_type": "code",
      "source": [
        "# exibindo as 15 linhas\n",
        "display(combustiveis_df.head)"
      ],
      "metadata": {
        "id": "fchdvubgFx6K"
      },
      "execution_count": null,
      "outputs": []
    },
    {
      "cell_type": "code",
      "source": [
        "# Comando DataFrame.shape número de linhas e colunas\n",
        "\n",
        "print(combustiveis_df.shape)\n",
        "\n",
        "print('\\n')\n",
        "\n",
        "print(combustiveis_df.shape[0])\n",
        "\n"
      ],
      "metadata": {
        "id": "AdRVf90CHWU1"
      },
      "execution_count": null,
      "outputs": []
    },
    {
      "cell_type": "code",
      "source": [
        "# DataFrame.describe() - mostra estatísticas mais básicas do dataframe\n",
        "print('\\n')\n",
        "\n",
        "print(combustiveis_df.describe())"
      ],
      "metadata": {
        "id": "PPWZF7VvKCQQ"
      },
      "execution_count": null,
      "outputs": []
    },
    {
      "cell_type": "code",
      "source": [
        "# Quais são as colunas e que tipo de dados cada uma tem...\n",
        "\n",
        "print(combustiveis_df.info())"
      ],
      "metadata": {
        "id": "3IfWyDFGKk9C"
      },
      "execution_count": null,
      "outputs": []
    },
    {
      "cell_type": "code",
      "source": [
        "# filtrar apenas por uma coluna\n",
        "display(combustiveis_df['Revenda'])"
      ],
      "metadata": {
        "id": "ClcxkEZtY_oJ"
      },
      "execution_count": null,
      "outputs": []
    },
    {
      "cell_type": "code",
      "source": [
        "# Filtrar e preservar com mais de uma coluna\n",
        "ca_df = combustiveis_df[['Revenda', 'Municipio', 'Produto', 'Valor de Venda']]\n",
        "display(ca_df)"
      ],
      "metadata": {
        "id": "r8eB6C6uZiKq"
      },
      "execution_count": null,
      "outputs": []
    },
    {
      "cell_type": "code",
      "source": [
        "#Exibe a 4a. linha\n",
        "display(ca_df.loc[3])"
      ],
      "metadata": {
        "id": "rZcmjElzb0Rn"
      },
      "execution_count": null,
      "outputs": []
    },
    {
      "cell_type": "code",
      "source": [
        "display(ca_df.loc[3:19])"
      ],
      "metadata": {
        "id": "f0kmbgRjdfeF"
      },
      "execution_count": null,
      "outputs": []
    },
    {
      "cell_type": "code",
      "source": [
        "# Criar um dataframe gas_df apenas com 4 colunas (Revenda, Múnicipio, Produto, Valor de Venda) somente com combustível GASOLINA\n",
        "\n",
        "gas_df = combustiveis_df[['Revenda', 'Municipio', 'Produto', 'Valor de Venda']].loc[combustiveis_df['Produto'] == 'GASOLINA']\n",
        "# gas_df = gas_df.loc[gas_df['Produto'] == 'GASOLINA']\n",
        "display(gas_df)"
      ],
      "metadata": {
        "colab": {
          "base_uri": "https://localhost:8080/",
          "height": 424
        },
        "id": "4Dn6J3rzeSEo",
        "outputId": "53f599a5-6a9d-45cf-aa7d-f5d245a1d4f1"
      },
      "execution_count": null,
      "outputs": [
        {
          "output_type": "display_data",
          "data": {
            "text/plain": [
              "                                                  Revenda  \\\n",
              "0                                    POSTO ARAPIRACA LTDA   \n",
              "5                          AUTO POSTO FREITAS & MAIA LTDA   \n",
              "10                               AUTO POSTO DA PEDRA LTDA   \n",
              "14                  COMERCIO DE COMBUSTIVEIS NENZITA LTDA   \n",
              "19                         MARCOS ANTONIO DA SILVA CABRAL   \n",
              "...                                                   ...   \n",
              "168392                           AUTO POSTO KM BAURU LTDA   \n",
              "168394      COOPERCITRUS COOPERATIVA DE PRODUTORES RURAIS   \n",
              "168399  VICMAR COMERCIO DE COMBUSTIVEIS E LUBRIFICANTE...   \n",
              "168403         COMERCIAL DE COMBUSTIVEL CACHOEIRINHA LTDA   \n",
              "168405                  ABC DISTRIBUICAO DE PETROLEO LTDA   \n",
              "\n",
              "                    Municipio   Produto  Valor de Venda  \n",
              "0                   ARAPIRACA  GASOLINA           6.799  \n",
              "5             DELMIRO GOUVEIA  GASOLINA           7.198  \n",
              "10            DELMIRO GOUVEIA  GASOLINA           7.197  \n",
              "14            DELMIRO GOUVEIA  GASOLINA           7.175  \n",
              "19                ITACOATIARA  GASOLINA           6.990  \n",
              "...                       ...       ...             ...  \n",
              "168392                  BAURU  GASOLINA           6.199  \n",
              "168394              ITUIUTABA  GASOLINA           6.899  \n",
              "168399  CAMPOS DOS GOYTACAZES  GASOLINA           7.090  \n",
              "168403                 JEQUIE  GASOLINA           6.799  \n",
              "168405              ITUIUTABA  GASOLINA           6.580  \n",
              "\n",
              "[42209 rows x 4 columns]"
            ],
            "text/html": [
              "\n",
              "  <div id=\"df-bdd38c9e-b232-449f-a8de-7f463f0b3d00\">\n",
              "    <div class=\"colab-df-container\">\n",
              "      <div>\n",
              "<style scoped>\n",
              "    .dataframe tbody tr th:only-of-type {\n",
              "        vertical-align: middle;\n",
              "    }\n",
              "\n",
              "    .dataframe tbody tr th {\n",
              "        vertical-align: top;\n",
              "    }\n",
              "\n",
              "    .dataframe thead th {\n",
              "        text-align: right;\n",
              "    }\n",
              "</style>\n",
              "<table border=\"1\" class=\"dataframe\">\n",
              "  <thead>\n",
              "    <tr style=\"text-align: right;\">\n",
              "      <th></th>\n",
              "      <th>Revenda</th>\n",
              "      <th>Municipio</th>\n",
              "      <th>Produto</th>\n",
              "      <th>Valor de Venda</th>\n",
              "    </tr>\n",
              "  </thead>\n",
              "  <tbody>\n",
              "    <tr>\n",
              "      <th>0</th>\n",
              "      <td>POSTO ARAPIRACA LTDA</td>\n",
              "      <td>ARAPIRACA</td>\n",
              "      <td>GASOLINA</td>\n",
              "      <td>6.799</td>\n",
              "    </tr>\n",
              "    <tr>\n",
              "      <th>5</th>\n",
              "      <td>AUTO POSTO FREITAS &amp; MAIA LTDA</td>\n",
              "      <td>DELMIRO GOUVEIA</td>\n",
              "      <td>GASOLINA</td>\n",
              "      <td>7.198</td>\n",
              "    </tr>\n",
              "    <tr>\n",
              "      <th>10</th>\n",
              "      <td>AUTO POSTO DA PEDRA LTDA</td>\n",
              "      <td>DELMIRO GOUVEIA</td>\n",
              "      <td>GASOLINA</td>\n",
              "      <td>7.197</td>\n",
              "    </tr>\n",
              "    <tr>\n",
              "      <th>14</th>\n",
              "      <td>COMERCIO DE COMBUSTIVEIS NENZITA LTDA</td>\n",
              "      <td>DELMIRO GOUVEIA</td>\n",
              "      <td>GASOLINA</td>\n",
              "      <td>7.175</td>\n",
              "    </tr>\n",
              "    <tr>\n",
              "      <th>19</th>\n",
              "      <td>MARCOS ANTONIO DA SILVA CABRAL</td>\n",
              "      <td>ITACOATIARA</td>\n",
              "      <td>GASOLINA</td>\n",
              "      <td>6.990</td>\n",
              "    </tr>\n",
              "    <tr>\n",
              "      <th>...</th>\n",
              "      <td>...</td>\n",
              "      <td>...</td>\n",
              "      <td>...</td>\n",
              "      <td>...</td>\n",
              "    </tr>\n",
              "    <tr>\n",
              "      <th>168392</th>\n",
              "      <td>AUTO POSTO KM BAURU LTDA</td>\n",
              "      <td>BAURU</td>\n",
              "      <td>GASOLINA</td>\n",
              "      <td>6.199</td>\n",
              "    </tr>\n",
              "    <tr>\n",
              "      <th>168394</th>\n",
              "      <td>COOPERCITRUS COOPERATIVA DE PRODUTORES RURAIS</td>\n",
              "      <td>ITUIUTABA</td>\n",
              "      <td>GASOLINA</td>\n",
              "      <td>6.899</td>\n",
              "    </tr>\n",
              "    <tr>\n",
              "      <th>168399</th>\n",
              "      <td>VICMAR COMERCIO DE COMBUSTIVEIS E LUBRIFICANTE...</td>\n",
              "      <td>CAMPOS DOS GOYTACAZES</td>\n",
              "      <td>GASOLINA</td>\n",
              "      <td>7.090</td>\n",
              "    </tr>\n",
              "    <tr>\n",
              "      <th>168403</th>\n",
              "      <td>COMERCIAL DE COMBUSTIVEL CACHOEIRINHA LTDA</td>\n",
              "      <td>JEQUIE</td>\n",
              "      <td>GASOLINA</td>\n",
              "      <td>6.799</td>\n",
              "    </tr>\n",
              "    <tr>\n",
              "      <th>168405</th>\n",
              "      <td>ABC DISTRIBUICAO DE PETROLEO LTDA</td>\n",
              "      <td>ITUIUTABA</td>\n",
              "      <td>GASOLINA</td>\n",
              "      <td>6.580</td>\n",
              "    </tr>\n",
              "  </tbody>\n",
              "</table>\n",
              "<p>42209 rows × 4 columns</p>\n",
              "</div>\n",
              "      <button class=\"colab-df-convert\" onclick=\"convertToInteractive('df-bdd38c9e-b232-449f-a8de-7f463f0b3d00')\"\n",
              "              title=\"Convert this dataframe to an interactive table.\"\n",
              "              style=\"display:none;\">\n",
              "        \n",
              "  <svg xmlns=\"http://www.w3.org/2000/svg\" height=\"24px\"viewBox=\"0 0 24 24\"\n",
              "       width=\"24px\">\n",
              "    <path d=\"M0 0h24v24H0V0z\" fill=\"none\"/>\n",
              "    <path d=\"M18.56 5.44l.94 2.06.94-2.06 2.06-.94-2.06-.94-.94-2.06-.94 2.06-2.06.94zm-11 1L8.5 8.5l.94-2.06 2.06-.94-2.06-.94L8.5 2.5l-.94 2.06-2.06.94zm10 10l.94 2.06.94-2.06 2.06-.94-2.06-.94-.94-2.06-.94 2.06-2.06.94z\"/><path d=\"M17.41 7.96l-1.37-1.37c-.4-.4-.92-.59-1.43-.59-.52 0-1.04.2-1.43.59L10.3 9.45l-7.72 7.72c-.78.78-.78 2.05 0 2.83L4 21.41c.39.39.9.59 1.41.59.51 0 1.02-.2 1.41-.59l7.78-7.78 2.81-2.81c.8-.78.8-2.07 0-2.86zM5.41 20L4 18.59l7.72-7.72 1.47 1.35L5.41 20z\"/>\n",
              "  </svg>\n",
              "      </button>\n",
              "      \n",
              "  <style>\n",
              "    .colab-df-container {\n",
              "      display:flex;\n",
              "      flex-wrap:wrap;\n",
              "      gap: 12px;\n",
              "    }\n",
              "\n",
              "    .colab-df-convert {\n",
              "      background-color: #E8F0FE;\n",
              "      border: none;\n",
              "      border-radius: 50%;\n",
              "      cursor: pointer;\n",
              "      display: none;\n",
              "      fill: #1967D2;\n",
              "      height: 32px;\n",
              "      padding: 0 0 0 0;\n",
              "      width: 32px;\n",
              "    }\n",
              "\n",
              "    .colab-df-convert:hover {\n",
              "      background-color: #E2EBFA;\n",
              "      box-shadow: 0px 1px 2px rgba(60, 64, 67, 0.3), 0px 1px 3px 1px rgba(60, 64, 67, 0.15);\n",
              "      fill: #174EA6;\n",
              "    }\n",
              "\n",
              "    [theme=dark] .colab-df-convert {\n",
              "      background-color: #3B4455;\n",
              "      fill: #D2E3FC;\n",
              "    }\n",
              "\n",
              "    [theme=dark] .colab-df-convert:hover {\n",
              "      background-color: #434B5C;\n",
              "      box-shadow: 0px 1px 3px 1px rgba(0, 0, 0, 0.15);\n",
              "      filter: drop-shadow(0px 1px 2px rgba(0, 0, 0, 0.3));\n",
              "      fill: #FFFFFF;\n",
              "    }\n",
              "  </style>\n",
              "\n",
              "      <script>\n",
              "        const buttonEl =\n",
              "          document.querySelector('#df-bdd38c9e-b232-449f-a8de-7f463f0b3d00 button.colab-df-convert');\n",
              "        buttonEl.style.display =\n",
              "          google.colab.kernel.accessAllowed ? 'block' : 'none';\n",
              "\n",
              "        async function convertToInteractive(key) {\n",
              "          const element = document.querySelector('#df-bdd38c9e-b232-449f-a8de-7f463f0b3d00');\n",
              "          const dataTable =\n",
              "            await google.colab.kernel.invokeFunction('convertToInteractive',\n",
              "                                                     [key], {});\n",
              "          if (!dataTable) return;\n",
              "\n",
              "          const docLinkHtml = 'Like what you see? Visit the ' +\n",
              "            '<a target=\"_blank\" href=https://colab.research.google.com/notebooks/data_table.ipynb>data table notebook</a>'\n",
              "            + ' to learn more about interactive tables.';\n",
              "          element.innerHTML = '';\n",
              "          dataTable['output_type'] = 'display_data';\n",
              "          await google.colab.output.renderOutput(dataTable, element);\n",
              "          const docLink = document.createElement('div');\n",
              "          docLink.innerHTML = docLinkHtml;\n",
              "          element.appendChild(docLink);\n",
              "        }\n",
              "      </script>\n",
              "    </div>\n",
              "  </div>\n",
              "  "
            ]
          },
          "metadata": {}
        }
      ]
    },
    {
      "cell_type": "code",
      "source": [
        "display(gas_df['Valor de Venda'].max())"
      ],
      "metadata": {
        "colab": {
          "base_uri": "https://localhost:8080/",
          "height": 34
        },
        "id": "nUmBqCINgqVm",
        "outputId": "9f218f45-6fd4-46dc-c62a-9cde65cbc2e7"
      },
      "execution_count": null,
      "outputs": [
        {
          "output_type": "display_data",
          "data": {
            "text/plain": [
              "7.999"
            ]
          },
          "metadata": {}
        }
      ]
    },
    {
      "cell_type": "code",
      "source": [
        "display(gas_df[['Revenda', 'Municipio','Valor de Venda']].max())"
      ],
      "metadata": {
        "colab": {
          "base_uri": "https://localhost:8080/",
          "height": 86
        },
        "id": "2uMVGwrihPOn",
        "outputId": "f48ecc07-0672-450b-a0a5-943fd28d0e53"
      },
      "execution_count": null,
      "outputs": [
        {
          "output_type": "display_data",
          "data": {
            "text/plain": [
              "Revenda           ZV POSTO DE SERVIÇO LTDA.\n",
              "Municipio                           XANXERE\n",
              "Valor de Venda                        7.999\n",
              "dtype: object"
            ]
          },
          "metadata": {}
        }
      ]
    },
    {
      "cell_type": "code",
      "source": [
        "#Vamos brincar de gráficos!!!\n",
        "\n",
        "# !pip install matplotlib\n",
        "import matplotlib.pyplot as plt\n",
        "\n",
        "# plt.hist(combustiveis_df['Valor de Venda'].mean())\n",
        "plt.hist(combustiveis_df['Valor de Venda'])"
      ],
      "metadata": {
        "colab": {
          "base_uri": "https://localhost:8080/",
          "height": 352
        },
        "id": "dWzprN6wfcHT",
        "outputId": "b7d52b4f-9aaa-433b-c7e2-6276bc06b84d"
      },
      "execution_count": 4,
      "outputs": [
        {
          "output_type": "execute_result",
          "data": {
            "text/plain": [
              "(array([2.8000e+01, 6.7200e+02, 2.6370e+03, 3.8035e+04, 4.5319e+04,\n",
              "        2.7049e+04, 4.1406e+04, 1.2733e+04, 4.8700e+02, 4.3000e+01]),\n",
              " array([2.849 , 3.4631, 4.0772, 4.6913, 5.3054, 5.9195, 6.5336, 7.1477,\n",
              "        7.7618, 8.3759, 8.99  ]),\n",
              " <a list of 10 Patch objects>)"
            ]
          },
          "metadata": {},
          "execution_count": 4
        },
        {
          "output_type": "display_data",
          "data": {
            "text/plain": [
              "<Figure size 432x288 with 1 Axes>"
            ],
            "image/png": "[encoded data removed]"
          },
          "metadata": {
            "needs_background": "light"
          }
        }
      ]
    },
    {
      "cell_type": "code",
      "source": [
        "plt.hist(combustiveis_df['Valor de Venda'])\n",
        "# Título\n",
        "plt.title(\"Preço dos combustíveis - Nov/2021\")\n",
        "# Rótulo horizontal\n",
        "plt.xlabel(\"Preçp (em Reais)\")\n",
        "\n",
        "#Plote o graficão - tem que ser por último!!!\n",
        "plt.show()"
      ],
      "metadata": {
        "colab": {
          "base_uri": "https://localhost:8080/",
          "height": 295
        },
        "id": "j7w9FHK5jKnO",
        "outputId": "fa947b24-a44f-4e9a-fbc6-1c20c4352e87"
      },
      "execution_count": 8,
      "outputs": [
        {
          "output_type": "display_data",
          "data": {
            "text/plain": [
              "<Figure size 432x288 with 1 Axes>"
            ],
            "image/png": "[encoded data removed]"
          },
          "metadata": {
            "needs_background": "light"
          }
        }
      ]
    }
  ]
}